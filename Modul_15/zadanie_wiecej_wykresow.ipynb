{
 "metadata": {
  "language_info": {
   "codemirror_mode": {
    "name": "ipython",
    "version": 3
   },
   "file_extension": ".py",
   "mimetype": "text/x-python",
   "name": "python",
   "nbconvert_exporter": "python",
   "pygments_lexer": "ipython3",
   "version": "3.7.6-final"
  },
  "orig_nbformat": 2,
  "kernelspec": {
   "name": "python37664bitbaseconda83d614905fa446558d9d8ee5f3a5650f",
   "display_name": "Python 3.7.6 64-bit ('base': conda)",
   "language": "python"
  }
 },
 "nbformat": 4,
 "nbformat_minor": 2,
 "cells": [
  {
   "cell_type": "code",
   "execution_count": 1,
   "metadata": {},
   "outputs": [],
   "source": [
    "import plotly.graph_objects as go\n",
    "import matplotlib.pyplot as plt\n",
    "import pandas as pd\n"
   ]
  },
  {
   "cell_type": "code",
   "execution_count": 2,
   "metadata": {},
   "outputs": [],
   "source": [
    "prices = [\n",
    "\t(1, 2.12),\n",
    "\t(2, 2.56),\n",
    "\t(3, 3.10),\n",
    "\t(4, 3.16),\n",
    "\t(5, 3.58),\n",
    "\t(6, 5.12),\n",
    "\t(7, 5.16),\n",
    "\t(8, 5.20),\n",
    "\t(9, 4.12),\n",
    "\t(10, 4.10),\n",
    "\t(11, 3.65),\n",
    "\t(12, 4.25),\n",
    "\n",
    "]"
   ]
  },
  {
   "cell_type": "code",
   "execution_count": 10,
   "metadata": {},
   "outputs": [
    {
     "output_type": "execute_result",
     "data": {
      "text/plain": [
       "       pricePLN\n",
       "month          \n",
       "1          2.12\n",
       "2          2.56\n",
       "3          3.10\n",
       "4          3.16\n",
       "5          3.58\n",
       "6          5.12\n",
       "7          5.16\n",
       "8          5.20\n",
       "9          4.12\n",
       "10         4.10\n",
       "11         3.65\n",
       "12         4.25"
      ],
      "text/html": "<div>\n<style scoped>\n    .dataframe tbody tr th:only-of-type {\n        vertical-align: middle;\n    }\n\n    .dataframe tbody tr th {\n        vertical-align: top;\n    }\n\n    .dataframe thead th {\n        text-align: right;\n    }\n</style>\n<table border=\"1\" class=\"dataframe\">\n  <thead>\n    <tr style=\"text-align: right;\">\n      <th></th>\n      <th>pricePLN</th>\n    </tr>\n    <tr>\n      <th>month</th>\n      <th></th>\n    </tr>\n  </thead>\n  <tbody>\n    <tr>\n      <th>1</th>\n      <td>2.12</td>\n    </tr>\n    <tr>\n      <th>2</th>\n      <td>2.56</td>\n    </tr>\n    <tr>\n      <th>3</th>\n      <td>3.10</td>\n    </tr>\n    <tr>\n      <th>4</th>\n      <td>3.16</td>\n    </tr>\n    <tr>\n      <th>5</th>\n      <td>3.58</td>\n    </tr>\n    <tr>\n      <th>6</th>\n      <td>5.12</td>\n    </tr>\n    <tr>\n      <th>7</th>\n      <td>5.16</td>\n    </tr>\n    <tr>\n      <th>8</th>\n      <td>5.20</td>\n    </tr>\n    <tr>\n      <th>9</th>\n      <td>4.12</td>\n    </tr>\n    <tr>\n      <th>10</th>\n      <td>4.10</td>\n    </tr>\n    <tr>\n      <th>11</th>\n      <td>3.65</td>\n    </tr>\n    <tr>\n      <th>12</th>\n      <td>4.25</td>\n    </tr>\n  </tbody>\n</table>\n</div>"
     },
     "metadata": {},
     "execution_count": 10
    }
   ],
   "source": [
    "df = pd.DataFrame(prices, columns=[\"month\", \"pricePLN\"])\n",
    "df = df.set_index(\"month\")\n",
    "df"
   ]
  },
  {
   "cell_type": "code",
   "execution_count": null,
   "metadata": {},
   "outputs": [],
   "source": []
  }
 ]
}